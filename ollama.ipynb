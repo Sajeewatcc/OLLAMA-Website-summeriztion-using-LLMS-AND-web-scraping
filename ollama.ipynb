{
 "cells": [
  {
   "cell_type": "code",
   "execution_count": 1,
   "id": "36d38ea8-2086-4cb0-962d-9d2986384edd",
   "metadata": {},
   "outputs": [],
   "source": [
    "import requests\n",
    "from bs4 import BeautifulSoup\n",
    "from IPython.display import Markdown, display"
   ]
  },
  {
   "cell_type": "code",
   "execution_count": 2,
   "id": "6b1f0011-2034-45cf-8641-7d67420f13ec",
   "metadata": {},
   "outputs": [],
   "source": [
    "OLLAMA_API = \"http://localhost:11434/api/chat\"\n",
    "HEADERS = {\"Content-Type\": \"application/json\"}\n",
    "MODEL = \"llama3.2\""
   ]
  },
  {
   "cell_type": "code",
   "execution_count": 3,
   "id": "4cfaa1a4-66c5-4c57-b7e0-b2a91634036e",
   "metadata": {},
   "outputs": [],
   "source": [
    "class Website:\n",
    "\n",
    "    def __init__(self, url):\n",
    "        \"\"\"\n",
    "        Create this Website object from the given url using the BeautifulSoup library\n",
    "        \"\"\"\n",
    "        self.url = url #store the URL\n",
    "        response = requests.get(url, headers=HEADERS) #Make a request to the URL\n",
    "        soup = BeautifulSoup(response.content, 'html.parser') #Parse the HTML\n",
    "        self.title = soup.title.string if soup.title else \"No title found\" #Extract the Title\n",
    "        for irrelevant in soup.body([\"script\", \"style\", \"img\", \"input\"]):\n",
    "            irrelevant.decompose()\n",
    "        self.text = soup.body.get_text(separator=\"\\n\", strip=True)"
   ]
  },
  {
   "cell_type": "code",
   "execution_count": 4,
   "id": "3ec52b21-ad7b-4ad0-a770-aa3b5bea0f08",
   "metadata": {},
   "outputs": [],
   "source": [
    "system_prompt = \"You are an assistant that analyzes the contents of a website \\\n",
    "and provides a short summary, ignoring text that might be navigation related. \\\n",
    "Respond in markdown.\""
   ]
  },
  {
   "cell_type": "code",
   "execution_count": 5,
   "id": "c38c68af-c2d3-43da-a727-ce48ec897517",
   "metadata": {},
   "outputs": [],
   "source": [
    "def user_prompt_for(website):\n",
    "    user_prompt = f\"You are looking at a website titled {website.title}\"\n",
    "    user_prompt += \"\\nThe contents of this website is as follows; \\\n",
    "please provide a short summary of this website in markdown. \\\n",
    "If it includes news or announcements, then summarize these too.\\n\\n\"\n",
    "    user_prompt += website.text\n",
    "    return user_prompt"
   ]
  },
  {
   "cell_type": "code",
   "execution_count": 6,
   "id": "f54f06b4-daf5-40d2-9335-a2f38f7c1fb7",
   "metadata": {},
   "outputs": [],
   "source": [
    "def messages_for(website):\n",
    "    return [\n",
    "        {\"role\": \"system\", \"content\": system_prompt},\n",
    "        {\"role\": \"user\", \"content\": user_prompt_for(website)}\n",
    "    ]"
   ]
  },
  {
   "cell_type": "code",
   "execution_count": 7,
   "id": "e1a9dd83-0249-44c7-8ae3-30e21cea4f26",
   "metadata": {},
   "outputs": [],
   "source": [
    "def summarize(url):\n",
    "    website = Website(url)\n",
    "    response = requests.post(OLLAMA_API, json={\n",
    "        \"model\": MODEL,\n",
    "        \"messages\": messages_for(website),\n",
    "        \"stream\": False\n",
    "    }, headers=HEADERS)\n",
    "    result = response.json()\n",
    "    return display(Markdown(result[\"message\"][\"content\"]))"
   ]
  },
  {
   "cell_type": "code",
   "execution_count": 8,
   "id": "ef2e685a-9dd3-452b-8b46-cebf498afa23",
   "metadata": {},
   "outputs": [
    {
     "data": {
      "text/markdown": [
       "**Summary of Toyota Lanka**\n",
       "=====================================\n",
       "\n",
       "### Overview\n",
       "-----------------\n",
       "\n",
       "Toyota Lanka is an authorized distributor of original Pirelli tires, genuine Motor Oil, and new Toyota vehicles.\n",
       "\n",
       "### Key Features\n",
       "--------------\n",
       "\n",
       "* Offers a wide range of Toyota models, including Compact SUVs, Hatches, MPVs, Pickups, Buses, Sedans, and SUVs.\n",
       "* Provides Genuine Toyota Motor Oil for passenger cars.\n",
       "* Has a commitment to delivering world-renowned \"Toyota Quality Service\".\n",
       "* Has authorized dealerships across Sri Lanka.\n",
       "\n",
       "### News/Announcements\n",
       "-----------------------\n",
       "\n",
       "* **Road Trips into the Rough**: A documentary series showcasing Sri Lanka's natural wonders.\n",
       "* **Schedule Your Test Drive Today**: Book a test drive with Toyota Lanka to experience their models firsthand.\n",
       "\n",
       "### Latest Promotions\n",
       "----------------------\n",
       "\n",
       "* Various promotions and offers on select models and services.\n",
       "\n",
       "### Contact Information\n",
       "---------------------\n",
       "\n",
       "* Phone: +94 11 293 9000 (ext. -6)\n",
       "* Fax: +94 11 293 9005\n",
       "* Email: [info@toyota.lk](mailto:info@toyota.lk)\n",
       "\n",
       "### Disclaimer\n",
       "----------------\n",
       "\n",
       "Vehicle body color may differ from printed photos on the website and catalog.\n",
       "Toyota Motor Corporation reserves the right to alter specifications and equipment without notice."
      ],
      "text/plain": [
       "<IPython.core.display.Markdown object>"
      ]
     },
     "metadata": {},
     "output_type": "display_data"
    }
   ],
   "source": [
    "summarize(\"https://www.toyota.lk\")"
   ]
  },
  {
   "cell_type": "code",
   "execution_count": null,
   "id": "b475a9f1-b720-4d5d-854a-93b7a8f8820b",
   "metadata": {},
   "outputs": [],
   "source": []
  }
 ],
 "metadata": {
  "kernelspec": {
   "display_name": "Python 3 (ipykernel)",
   "language": "python",
   "name": "python3"
  },
  "language_info": {
   "codemirror_mode": {
    "name": "ipython",
    "version": 3
   },
   "file_extension": ".py",
   "mimetype": "text/x-python",
   "name": "python",
   "nbconvert_exporter": "python",
   "pygments_lexer": "ipython3",
   "version": "3.11.11"
  }
 },
 "nbformat": 4,
 "nbformat_minor": 5
}
